{
 "cells": [
  {
   "cell_type": "code",
   "execution_count": 1,
   "metadata": {},
   "outputs": [],
   "source": [
    "# Define the train chromosomes\n",
    "train_chr = ['chr2', 'chr4', 'chr6', 'chr8', 'chr10', 'chr11', 'chr12', 'chr13', 'chr14',\n",
    "                'chr15', 'chr16', 'chr17', 'chr18', 'chr19', 'chr20', 'chr21', 'chr22', 'chrX', 'chrY',\n",
    "                '2', '4', '6', '8', '10', '11', '12', '13', '14', '15', '16', '17', '18', '19', '20', '21', '22', 'X', 'Y']"
   ]
  },
  {
   "cell_type": "code",
   "execution_count": 2,
   "metadata": {},
   "outputs": [],
   "source": [
    "def split_and_remove_empty(s):\n",
    "    return [x.strip() for x in s.split(',') if x.strip()]\n",
    "\n",
    "def get_number_of_ss(f):\n",
    "    '''Returns the number of splice sites in the training file f for all chromosomes and only train chromosomes'''\n",
    "    ss_count = 0\n",
    "    train_ss_count = 0\n",
    "    with open(f, 'r') as file:\n",
    "        for line in file:\n",
    "            columns = line.strip().split('\\t')\n",
    "            chromosome = columns[2] \n",
    "            for i in range(6, 8): \n",
    "                split_column = split_and_remove_empty(columns[i])\n",
    "                ss_count += len(split_column)\n",
    "                if chromosome in train_chr:\n",
    "                    train_ss_count += len(split_column)\n",
    "            \n",
    "    print(f)\n",
    "    print(\"Total splice sites:\", ss_count)\n",
    "    print(\"Splice sites on train chromosomes:\", train_ss_count)"
   ]
  },
  {
   "cell_type": "code",
   "execution_count": 3,
   "metadata": {},
   "outputs": [
    {
     "name": "stdout",
     "output_type": "stream",
     "text": [
      "../datasets/canonical_dataset.txt\n",
      "Total splice sites: 369660\n",
      "Splice sites on train chromosomes: 261592\n",
      "../datasets/gtex_dataset.txt\n",
      "Total splice sites: 556174\n",
      "Splice sites on train chromosomes: 391515\n",
      "../datasets/retina_dataset.txt\n",
      "Total splice sites: 406581\n",
      "Splice sites on train chromosomes: 286002\n"
     ]
    }
   ],
   "source": [
    "get_number_of_ss('../datasets/canonical_dataset.txt')\n",
    "get_number_of_ss('../datasets/gtex_dataset.txt')\n",
    "get_number_of_ss('../datasets/retina_dataset.txt')"
   ]
  },
  {
   "cell_type": "code",
   "execution_count": null,
   "metadata": {},
   "outputs": [],
   "source": []
  }
 ],
 "metadata": {
  "kernelspec": {
   "display_name": "plots",
   "language": "python",
   "name": "python3"
  },
  "language_info": {
   "codemirror_mode": {
    "name": "ipython",
    "version": 3
   },
   "file_extension": ".py",
   "mimetype": "text/x-python",
   "name": "python",
   "nbconvert_exporter": "python",
   "pygments_lexer": "ipython3",
   "version": "3.11.0"
  }
 },
 "nbformat": 4,
 "nbformat_minor": 2
}
