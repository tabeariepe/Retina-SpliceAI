{
 "cells": [
  {
   "cell_type": "markdown",
   "metadata": {},
   "source": [
    "# Import"
   ]
  },
  {
   "cell_type": "code",
   "execution_count": null,
   "metadata": {},
   "outputs": [],
   "source": []
  },
  {
   "cell_type": "code",
   "execution_count": 1,
   "metadata": {},
   "outputs": [],
   "source": [
    "# Spliceai2022 environment\n",
    "import pandas as pd\n",
    "import matplotlib.pyplot as plt\n",
    "import pysam\n",
    "import seaborn as sns\n",
    "from pyliftover import LiftOver\n",
    "from matplotlib_venn import venn2"
   ]
  },
  {
   "cell_type": "code",
   "execution_count": 2,
   "metadata": {},
   "outputs": [],
   "source": [
    "# Define the parameters used to create the plots\n",
    "rc = {'figure.figsize':(7,7),\n",
    "      'axes.facecolor':'white',\n",
    "      'figure.facecolor':'white',\n",
    "      'axes.grid' : False,\n",
    "      'font.size' : 20,    \n",
    "      'font.sans-serif': 'Arial',\n",
    "      'font.family': 'sans-serif',\n",
    "      'svg.fonttype' : 'none'}\n"
   ]
  },
  {
   "cell_type": "markdown",
   "metadata": {},
   "source": [
    "# (A) Comparison to GTEx dataset"
   ]
  },
  {
   "cell_type": "code",
   "execution_count": 3,
   "metadata": {},
   "outputs": [],
   "source": [
    "def convert_to_hg38(file):\n",
    "\n",
    "    # Function to convert coordinates\n",
    "    def convert_coordinate(chr, coord):\n",
    "        converted = []\n",
    "        converted_coord = lo.convert_coordinate(chr, coord)\n",
    "        if converted_coord:\n",
    "            return converted_coord[0][1]\n",
    "        else:\n",
    "            return 'NA'\n",
    "    # Read your file into a DataFrame\n",
    "    df = pd.read_csv(file,\n",
    "                    sep='\\t',\n",
    "                    header=None,\n",
    "                    names=['Gene', 'Paralog', 'Chr', 'Strand', 'TxStart', 'TxEnd', 'hg19ESS', 'hg19EES'])\n",
    "\n",
    "    # Create a LiftOver object for hg19 to hg38 conversion\n",
    "    lo = LiftOver('hg19', 'hg38')\n",
    "        \n",
    "    for index, row in df.iterrows():\n",
    "        chr = row['Chr']\n",
    "        df.at[index, 'TxStart38'] = convert_coordinate(chr, row['TxStart'])\n",
    "        df.at[index, 'TxEnd38'] = convert_coordinate(chr, row['TxEnd'])\n",
    "        ESS38 = []\n",
    "        for coord in row['hg19ESS'].split(',')[:-1]:\n",
    "            ESS38.append(convert_coordinate(chr, int(coord)))\n",
    "        ESS38 = ','.join(map(str, ESS38))\n",
    "        EES38 = []\n",
    "        for coord in row['hg19EES'].split(',')[:-1]:\n",
    "            EES38.append(convert_coordinate(chr, int(coord)))\n",
    "        EES38 = ','.join(map(str, EES38))\n",
    "        df.at[index, 'hg38ESS'] = ESS38\n",
    "        df.at[index, 'hg38EES'] = EES38\n",
    "\n",
    "    df['Chr'] = df['Chr'].str.replace('chr', '')\n",
    "\n",
    "    return df\n",
    "\n",
    "# Convert gtex from hg19 to hg38\n",
    "gtex = convert_to_hg38('../datasets/gtex_dataset.txt')\n",
    "\n",
    "retina = pd.read_csv('../datasets/retina503.15samples.txt',\n",
    "                    sep='\\t',\n",
    "                    header=None,\n",
    "                    names=['Gene', 'Paralog', 'Chr', 'Strand', 'TxStart', 'TxEnd', 'ESS', 'EES'])"
   ]
  },
  {
   "cell_type": "code",
   "execution_count": 4,
   "metadata": {},
   "outputs": [],
   "source": [
    "# Create a set for TxStart, TxEnt, ESS and EES\n",
    "def populate_sets_from_dataframe(dataframe, txstart_col, txend_col, ess_col, ees_col):\n",
    "    txstart_set = set()\n",
    "    txend_set = set()\n",
    "    ess_set = set()\n",
    "    ees_set = set()\n",
    "\n",
    "    for index, row in dataframe.iterrows():\n",
    "        txstart_set.add(str(row['Gene'] + ':' + row['Chr']) + ':' + row['Strand'] + ':' + str(row[txstart_col]))\n",
    "        txend_set.add(str(row['Gene'] + ':' + row['Chr']) + ':' + row['Strand'] + ':' + str(row[txend_col]))\n",
    "\n",
    "        ess = row[ess_col].rstrip(',').split(',')\n",
    "        for i in ess:\n",
    "            ess_set.add(str(row['Gene'] + ':' + row['Chr']) + ':' + row['Strand'] + ':' + str(i))\n",
    "        ees = row[ees_col].rstrip(',').split(',')\n",
    "        for i in ees:\n",
    "            ees_set.add(str(row['Gene'] + ':' + row['Chr']) + ':'+ row['Strand'] + ':' + str(i))\n",
    "\n",
    "    return txstart_set, txend_set, ess_set, ees_set\n",
    "\n",
    "retina_txstart, retina_tx_end, retina_ess, retina_ees = populate_sets_from_dataframe(\n",
    "    retina, 'TxStart', 'TxEnd', 'ESS', 'EES')\n",
    "\n",
    "gtex_txstart, gtex_tx_end, gtex_ess, gtex_ees = populate_sets_from_dataframe(\n",
    "    gtex, 'TxStart38', 'TxEnd38', 'hg38ESS', 'hg38EES')"
   ]
  },
  {
   "cell_type": "code",
   "execution_count": 5,
   "metadata": {},
   "outputs": [
    {
     "data": {
      "image/png": "[encoded data removed]",
      "text/plain": [
       "<Figure size 432x288 with 1 Axes>"
      ]
     },
     "metadata": {},
     "output_type": "display_data"
    }
   ],
   "source": [
    "\n",
    "retina_ss = retina_ess.union(retina_ees)\n",
    "gtex_ss = gtex_ess.union(gtex_ees)\n",
    "\n",
    "plt.rcParams.update(rc)\n",
    "\n",
    "# Create a Venn diagram\n",
    "venn2(subsets=(len(retina_ss - gtex_ss), len(gtex_ss - retina_ss), len(retina_ss & gtex_ss)),\n",
    "      set_labels=('Retina', 'GTEx'), set_colors=('#AAADC4', '#102542'), alpha = 0.7)\n",
    "\n",
    "# Display the diagram\n",
    "plt.savefig('Trainingdata_overlapwithgtex.svg',  bbox_inches='tight', dpi = 300)\n",
    "plt.show()\n"
   ]
  },
  {
   "cell_type": "code",
   "execution_count": 6,
   "metadata": {},
   "outputs": [
    {
     "data": {
      "image/png": "[encoded data removed]",
      "text/plain": [
       "<Figure size 504x504 with 1 Axes>"
      ]
     },
     "metadata": {},
     "output_type": "display_data"
    }
   ],
   "source": [
    "# Create the same plot for splice junction on the training chromosomes\n",
    "train_chr = ['2', '4', '6', '8', '10', '11', '12', '13', '14', '15', '16', '17', '18', '19', '20', '21', '22', 'X', 'Y']\n",
    "\n",
    "retina_train = retina[retina['Chr'].isin(train_chr)]\n",
    "gtex_train = gtex[gtex['Chr'].isin(train_chr)]\n",
    "\n",
    "retina_txstart_train, retina_tx_end_train, retina_ess_train, retina_ees_train = populate_sets_from_dataframe(\n",
    "    retina_train, 'TxStart', 'TxEnd', 'ESS', 'EES')\n",
    "\n",
    "gtex_txstart_train, gtex_tx_end_train, gtex_ess_train, gtex_ees_train = populate_sets_from_dataframe(\n",
    "    gtex_train, 'TxStart38', 'TxEnd38', 'hg38ESS', 'hg38EES')\n",
    "\n",
    "\n",
    "retina_ss_train = retina_ess_train.union(retina_ees_train)\n",
    "gtex_ss_train = gtex_ess_train.union(gtex_ees_train)\n",
    "\n",
    "plt.rcParams.update(rc)\n",
    "\n",
    "# Create a Venn diagram\n",
    "venn2(subsets=(len(retina_ss_train - gtex_ss_train), len(gtex_ss_train - retina_ss_train), len(retina_ss_train & gtex_ss_train)),\n",
    "      set_labels=('Retina', 'GTEx'), set_colors=('#AAADC4', '#102542'), alpha = 0.7)\n",
    "\n",
    "# Display the diagram\n",
    "plt.savefig('Trainingdata_overlapwithgtex_trainchr.svg',  bbox_inches='tight', dpi = 300)\n",
    "plt.show()"
   ]
  },
  {
   "cell_type": "markdown",
   "metadata": {},
   "source": [
    "# Check how many retinas-specific exons are in each dataset"
   ]
  },
  {
   "cell_type": "code",
   "execution_count": 7,
   "metadata": {},
   "outputs": [
    {
     "name": "stdout",
     "output_type": "stream",
     "text": [
      "Number of retina-specific exons:  197\n"
     ]
    }
   ],
   "source": [
    "# To do: Keep SAS and SDS separate\n",
    "\n",
    "# load the exons\n",
    "retina_exons = pd.read_csv('../ref_data/retina_enriched_exons.bed', sep = '\\t')\n",
    "retina_exons = retina_exons.values.tolist()\n",
    "print('Number of retina-specific exons: ', len(retina_exons))\n",
    "\n",
    "exon_sas = []\n",
    "exon_sds = []\n",
    "\n",
    "for i in retina_exons:\n",
    "    chr = i[0][3:]\n",
    "    if i[3] == 1:\n",
    "        strand = '+'\n",
    "    else:\n",
    "        strand = '-'\n",
    "    if strand == '+':\n",
    "        exon_sas.append(str(chr) + ':' + strand + ':' + str(i[1]))\n",
    "        exon_sds.append(str(chr) + ':' + strand + ':' + str(i[2]))\n",
    "    else:\n",
    "        exon_sds.append(str(chr) + ':' + strand + ':' + str(i[1]))\n",
    "        exon_sas.append(str(chr) + ':' + strand + ':' + str(i[2]))\n",
    "\n",
    "exon_sas = set(exon_sas)\n",
    "exon_sds = set(exon_sds)\n",
    "\n",
    "# Remove gene from retina and gtex junctions\n",
    "retina_sas = set([':'.join(i.split(':')[1:]) for i in retina_ess])\n",
    "retina_sds = set([':'.join(i.split(':')[1:]) for i in retina_ees])\n",
    "gtex_sas = set([':'.join(i.split(':')[1:]) for i in gtex_ess])\n",
    "gtex_sds = set([':'.join(i.split(':')[1:]) for i in gtex_ees])"
   ]
  },
  {
   "cell_type": "code",
   "execution_count": 8,
   "metadata": {},
   "outputs": [
    {
     "name": "stdout",
     "output_type": "stream",
     "text": [
      "Retina SAS not in retina data:  126\n",
      "Retina SDS not in retina data:  118\n",
      "GTEx SAS not in retina data:  135\n",
      "GTEx SDS not in retina data:  124\n",
      "Retina SAS not in both datasets:  115\n",
      "Retina SDS not in both datasets:  107\n"
     ]
    }
   ],
   "source": [
    "print('Retina SAS not in retina data: ', len(exon_sas - retina_sas))\n",
    "print('Retina SDS not in retina data: ', len(exon_sds - retina_sds))\n",
    "\n",
    "print('GTEx SAS not in retina data: ', len(exon_sas - gtex_sas))\n",
    "print('GTEx SDS not in retina data: ', len(exon_sds - gtex_sds))\n",
    "\n",
    "print('Retina SAS not in both datasets: ', len(exon_sas - (retina_sas | gtex_sas)))\n",
    "print('Retina SDS not in both datasets: ', len(exon_sds - (retina_sds | gtex_sds)))\n"
   ]
  },
  {
   "cell_type": "code",
   "execution_count": 9,
   "metadata": {},
   "outputs": [],
   "source": [
    "sas = []\n",
    "\n",
    "for i in exon_sas - (retina_sas | gtex_sas):\n",
    "    individual = i.split(':')\n",
    "    sas.append([individual[0], individual[1], individual[2]])\n",
    "\n",
    "sds = []\n",
    "\n",
    "for i in exon_sds - (retina_sds | gtex_sds):\n",
    "    individual = i.split(':')\n",
    "    sds.append([individual[0], individual[1], individual[2]])\n",
    "\n",
    "sas_df = pd.DataFrame(sas)\n",
    "sds_df = pd.DataFrame(sds)\n",
    "sas_df.to_csv('../ref_data/sas_not_in_train.tsv', sep = '\\t', index  = None)\n",
    "sds_df.to_csv('../ref_data/sds_not_in_train.tsv', sep = '\\t', index = None)"
   ]
  },
  {
   "cell_type": "markdown",
   "metadata": {},
   "source": [
    "# PacBio junctions not in training data"
   ]
  },
  {
   "cell_type": "code",
   "execution_count": 25,
   "metadata": {},
   "outputs": [],
   "source": [
    "acceptors = pd.read_csv('../ref_data/pacbio_novel_acceptors.tsv', sep = '\\t', header = None)\n",
    "donors = pd.read_csv('../ref_data/pacbio_novel_donors.tsv', sep = '\\t', header = None)\n",
    "\n",
    "retina_sas_nostrand = set([':'.join([i.split(':')[1], i.split(':')[3]]) for i in retina_ess])\n",
    "retina_sds_nostrand = set([':'.join([i.split(':')[1], i.split(':')[3]]) for i in retina_ees])\n",
    "gtex_sas_nostrand = set([':'.join([i.split(':')[1], i.split(':')[3]]) for i in gtex_ess])\n",
    "gtex_sds_nostrand = set([':'.join([i.split(':')[1], i.split(':')[3]]) for i in gtex_ees])\n",
    "\n",
    "pacbio_sas = []\n",
    "for index, row in acceptors.iterrows():\n",
    "    pacbio_sas.append(str(row[0][3:]) + ':' + str(row[1]))\n",
    "\n",
    "pacbio_sds = []\n",
    "for index, row in donors.iterrows():\n",
    "    pacbio_sds.append(str(row[0][3:]) + ':' + str(row[1]))\n",
    "\n",
    "pacbio_sas = set(pacbio_sas)\n",
    "pacbio_sds = set(pacbio_sds)"
   ]
  },
  {
   "cell_type": "code",
   "execution_count": 26,
   "metadata": {},
   "outputs": [
    {
     "name": "stdout",
     "output_type": "stream",
     "text": [
      "Retina SAS not in retina data:  10691\n",
      "Retina SDS not in retina data:  11142\n",
      "GTEx SAS not in retina data:  10846\n",
      "GTEx SDS not in retina data:  11354\n",
      "Retina SAS not in both datasets:  10576\n",
      "Retina SDS not in both datasets:  11031\n"
     ]
    }
   ],
   "source": [
    "print('Retina SAS not in retina data: ', len(pacbio_sas - retina_sas_nostrand))\n",
    "print('Retina SDS not in retina data: ', len(pacbio_sds - retina_sds_nostrand))\n",
    "\n",
    "print('GTEx SAS not in retina data: ', len(pacbio_sas - gtex_sas_nostrand))\n",
    "print('GTEx SDS not in retina data: ', len(pacbio_sds - gtex_sds_nostrand))\n",
    "\n",
    "print('Retina SAS not in both datasets: ', len(pacbio_sas - (retina_sas_nostrand | gtex_sas_nostrand)))\n",
    "print('Retina SDS not in both datasets: ', len(pacbio_sds - (retina_sds_nostrand | gtex_sds_nostrand)))\n"
   ]
  },
  {
   "cell_type": "code",
   "execution_count": 28,
   "metadata": {},
   "outputs": [],
   "source": [
    "sas = []\n",
    "\n",
    "for i in pacbio_sas - (retina_sas_nostrand | gtex_sas_nostrand):\n",
    "    individual = i.split(':')\n",
    "    sas.append([individual[0], individual[1]])\n",
    "\n",
    "sds = []\n",
    "\n",
    "for i in pacbio_sds - (retina_sds_nostrand | gtex_sds_nostrand):\n",
    "    individual = i.split(':')\n",
    "    sds.append([individual[0], individual[1]])\n",
    "\n",
    "sas_df = pd.DataFrame(sas)\n",
    "sds_df = pd.DataFrame(sds)\n",
    "sas_df.to_csv('../ref_data/pacbio_sas_not_in_train.tsv', sep = '\\t', index  = None)\n",
    "sds_df.to_csv('../ref_data/pacbio_sds_not_in_train.tsv', sep = '\\t', index = None)"
   ]
  },
  {
   "cell_type": "markdown",
   "metadata": {},
   "source": [
    "# (B) Splice junction motif"
   ]
  },
  {
   "cell_type": "code",
   "execution_count": null,
   "metadata": {},
   "outputs": [],
   "source": []
  }
 ],
 "metadata": {
  "kernelspec": {
   "display_name": "plots",
   "language": "python",
   "name": "python3"
  },
  "language_info": {
   "codemirror_mode": {
    "name": "ipython",
    "version": 3
   },
   "file_extension": ".py",
   "mimetype": "text/x-python",
   "name": "python",
   "nbconvert_exporter": "python",
   "pygments_lexer": "ipython3",
   "version": "3.10.5"
  }
 },
 "nbformat": 4,
 "nbformat_minor": 2
}
